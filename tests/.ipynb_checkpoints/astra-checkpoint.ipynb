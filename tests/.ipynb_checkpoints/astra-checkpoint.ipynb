{
 "cells": [
  {
   "cell_type": "markdown",
   "metadata": {},
   "source": [
    "# TomoPy with the ASTRA toolbox\n",
    "\n",
    "Here is an example on how to use the [ASTRA toolbox](http://www.astra-toolbox.com/docs/install.html) through its integration with [TomoPy](http://tomopy.readthedocs.io/en/latest) as published in  <cite data-cite=\"Pelt:16a\">Pelt:16a</cite>.\n",
    "\n",
    "To reconstruct the image with the ASTRA toolbox instead of TomoPy, change the ``algorithm`` keyword to ``tomopy.astra``. Specify which projection kernel to use (``proj_type``) and which ASTRA algorithm to reconstruct with (``method``) in the ``options`` keyword."
   ]
  },
  {
   "cell_type": "markdown",
   "metadata": {},
   "source": [
    "These two cells are an abbreviated setup for [Reconstruction with TomoPy](tomopy.rst)."
   ]
  },
  {
   "cell_type": "code",
   "execution_count": null,
   "metadata": {},
   "outputs": [],
   "source": [
    "import os\n",
    "from os.path import join\n",
    "\n",
    "import dxchange\n",
    "import matplotlib.pyplot as plt\n",
    "import tomopy"
   ]
  },
  {
   "cell_type": "code",
   "execution_count": null,
   "metadata": {},
   "outputs": [],
   "source": [
    "proj, flat, dark, theta = dxchange.read_aps_32id(\n",
    "    fname=join(os.getcwd(), \"tooth.h5\"),\n",
    "    sino=(0, 2),\n",
    ")\n",
    "proj = tomopy.normalize(proj, flat, dark)\n",
    "rot_center = 296\n",
    "proj = tomopy.minus_log(proj)"
   ]
  },
  {
   "cell_type": "markdown",
   "metadata": {},
   "source": [
    "For example, to use a line-based CPU kernel and the FBP method, use:"
   ]
  },
  {
   "cell_type": "code",
   "execution_count": null,
   "metadata": {},
   "outputs": [],
   "source": [
    "options = {'proj_type': 'linear', 'method': 'FBP'}\n",
    "recon = tomopy.recon(proj,\n",
    "                     theta,\n",
    "                     center=rot_center,\n",
    "                     algorithm=tomopy.astra,\n",
    "                     options=options,\n",
    "                     ncore=1)\n",
    "recon = tomopy.circ_mask(recon, axis=0, ratio=0.95)\n",
    "plt.imshow(recon[0, :, :])\n",
    "plt.show()"
   ]
  },
  {
   "cell_type": "markdown",
   "metadata": {},
   "source": [
    "If you have a CUDA-capable NVIDIA GPU, reconstruction times can be greatly\n",
    "reduced by using GPU-based algorithms of the ASTRA toolbox, especially for\n",
    "iterative reconstruction methods.\n",
    "\n",
    "To use the GPU, change the ``proj_type`` option to ``'cuda'``, and use\n",
    "CUDA-specific algorithms (e.g. ``'FBP_CUDA'`` for FBP):"
   ]
  },
  {
   "cell_type": "code",
   "execution_count": null,
   "metadata": {},
   "outputs": [],
   "source": [
    "options = {'proj_type': 'cuda', 'method': 'FBP_CUDA'}\n",
    "recon = tomopy.recon(proj,\n",
    "                     theta,\n",
    "                     center=rot_center,\n",
    "                     algorithm=tomopy.astra,\n",
    "                     options=options,\n",
    "                     ncore=1)\n",
    "recon = tomopy.circ_mask(recon, axis=0, ratio=0.95)\n",
    "plt.imshow(recon[0, :, :])\n",
    "plt.show()"
   ]
  },
  {
   "cell_type": "markdown",
   "metadata": {},
   "source": [
    "Many algorithms of the ASTRA toolbox support additional options, which can be found in the [documentation](http://www.astra-toolbox.com/docs/algs/index.html). These options can be specified using the ``extra_options`` keyword.\n",
    "\n",
    "For example, to use the GPU-based iterative SIRT method with a non-negativity constraint, use:"
   ]
  },
  {
   "cell_type": "code",
   "execution_count": null,
   "metadata": {},
   "outputs": [],
   "source": [
    "extra_options = {'MinConstraint': 0}\n",
    "options = {\n",
    "    'proj_type': 'cuda',\n",
    "    'method': 'SIRT_CUDA',\n",
    "    'num_iter': 200,\n",
    "    'extra_options': extra_options\n",
    "}\n",
    "recon = tomopy.recon(proj,\n",
    "                     theta,\n",
    "                     center=rot_center,\n",
    "                     algorithm=tomopy.astra,\n",
    "                     options=options,\n",
    "                     ncore=1)\n",
    "recon = tomopy.circ_mask(recon, axis=0, ratio=0.95)\n",
    "plt.imshow(recon[0, :, :])\n",
    "plt.show()"
   ]
  },
  {
   "cell_type": "markdown",
   "metadata": {},
   "source": [
    "More information about the projection kernels and algorithms that are supported\n",
    "by the ASTRA toolbox can be found in the documentation: [projection kernels](https://www.astra-toolbox.com/docs/proj2d.html) and [algorithms](https://www.astra-toolbox.com/docs/algs/index.html). Note that only the 2D\n",
    "(i.e. slice-based) algorithms are supported when reconstructing through TomoPy."
   ]
  }
 ],
 "metadata": {
  "kernelspec": {
   "display_name": "2403-cuda_tomo_test",
   "language": "python",
   "name": "2403-cuda_tomo_test"
  },
  "language_info": {
   "codemirror_mode": {
    "name": "ipython",
    "version": 3
   },
   "file_extension": ".py",
   "mimetype": "text/x-python",
   "name": "python",
   "nbconvert_exporter": "python",
   "pygments_lexer": "ipython3",
   "version": "3.11.5"
  }
 },
 "nbformat": 4,
 "nbformat_minor": 4
}
