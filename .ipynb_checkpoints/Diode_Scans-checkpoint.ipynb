{
 "cells": [
  {
   "cell_type": "markdown",
   "id": "98bb361a-4fb6-461e-80a5-523b5e17c1ca",
   "metadata": {},
   "source": [
    "# Initalize libraries"
   ]
  },
  {
   "cell_type": "markdown",
   "id": "0da40b57-6467-45ee-b067-3d55970bcdba",
   "metadata": {},
   "source": [
    "## Import libraries"
   ]
  },
  {
   "cell_type": "code",
   "execution_count": null,
   "id": "fae16cf5-86c2-4727-9d1d-2683d107d282",
   "metadata": {},
   "outputs": [],
   "source": [
    "import sys, os\n",
    "import time\n",
    "from os.path import join\n",
    "from os import path\n",
    "from importlib import reload\n",
    "from getpass import getuser\n",
    "import xarray as xr\n",
    "import h5py\n",
    "from tqdm.auto import tqdm\n",
    "\n",
    "import numpy as np\n",
    "import matplotlib.pyplot as plt\n",
    "\n",
    "# Misc\n",
    "from scipy.ndimage import gaussian_filter1d\n",
    "\n",
    "# Open nexus files\n",
    "from nexusformat.nexus import *\n",
    "\n",
    "# Self-written libraries\n",
    "sys.path.append(join(os.getcwd(),\"library\"))\n",
    "import support_functions as sup\n",
    "\n",
    "# Gifs\n",
    "import imageio\n",
    "\n",
    "plt.rcParams[\"figure.constrained_layout.use\"] = True  # replaces plt.tight_layout"
   ]
  },
  {
   "cell_type": "code",
   "execution_count": null,
   "id": "ef13f839-af3a-4b32-83cf-722ac1a68313",
   "metadata": {},
   "outputs": [],
   "source": [
    "# Is there a GPU?\n",
    "try:\n",
    "    # Cupy\n",
    "    import cupy as cp\n",
    "    import cupyx as cpx\n",
    "\n",
    "    GPU = True\n",
    "\n",
    "    print(\"GPU available\")\n",
    "\n",
    "    # Self-written library\n",
    "    import CCI_core_cupy as cci\n",
    "    import Phase_Retrieval as PhR\n",
    "except:\n",
    "    GPU = False\n",
    "    import CCI_core as cci\n",
    "\n",
    "    print(\"GPU unavailable\")"
   ]
  },
  {
   "cell_type": "code",
   "execution_count": null,
   "id": "5b2da438-226a-47d5-91b8-f5acc9664aa0",
   "metadata": {
    "tags": []
   },
   "outputs": [],
   "source": [
    "# interactive plotting\n",
    "import ipywidgets\n",
    "%matplotlib widget\n",
    "\n",
    "# Auto formatting of cells\n",
    "%load_ext jupyter_black"
   ]
  },
  {
   "cell_type": "markdown",
   "id": "e3408ae5-de64-411e-a3e3-f926b19134ab",
   "metadata": {},
   "source": [
    "## Experiment specific Functions"
   ]
  },
  {
   "cell_type": "code",
   "execution_count": null,
   "id": "1398e982-030a-45f2-9bc5-500cd48d86fb",
   "metadata": {},
   "outputs": [],
   "source": [
    "PROPOSAL = 11017626\n",
    "USER = getuser()"
   ]
  },
  {
   "cell_type": "code",
   "execution_count": null,
   "id": "67e0539b-b478-4e28-b1b1-f63a41cef975",
   "metadata": {},
   "outputs": [],
   "source": [
    "BASEFOLDER = \"/asap3/petra3/gpfs/p04/2023/data/%s/\" % PROPOSAL\n",
    "subfolder = \"2311_SAXS\"\n",
    "sample_name = \"2311_setup\"\n",
    "\n",
    "\n",
    "# Load any kind of data from collection\n",
    "def load_collection(scan_id, field):\n",
    "    fname = join(BASEFOLDER, \"raw\", subfolder, \"%s_%05d.nxs\" % (sample_name, scan_id))\n",
    "\n",
    "    with nxload(fname) as f:\n",
    "        data = np.array(f[\"scan\"][\"instrument\"][\"collection\"][field][()])\n",
    "        print(\"Loaded: %s\" % (fname))\n",
    "    return np.squeeze(data)\n",
    "\n",
    "\n",
    "# Load mono energy\n",
    "def load_energy(scan_id):\n",
    "    fname = join(BASEFOLDER, \"raw\", subfolder, \"%s_%05d.nxs\" % (sample_name, scan_id))\n",
    "\n",
    "    with nxload(fname) as f:\n",
    "        data = np.array(f[\"scan\"][\"instrument\"][\"monochromator\"][\"energy\"][()])\n",
    "        print(\"Loaded: %s\" % (fname))\n",
    "    return np.squeeze(data)\n",
    "\n",
    "\n",
    "# Load any kind of data from measurements\n",
    "def load_data(scan_id, field):\n",
    "    fname = join(BASEFOLDER, \"raw\", subfolder, \"%s_%05d.nxs\" % (sample_name, scan_id))\n",
    "\n",
    "    with nxload(fname) as f:\n",
    "        data = np.array(f[\"scan\"][\"data\"][field][()])\n",
    "        print(\"Loaded key %s of %s\" % (field, fname))\n",
    "    return np.squeeze(data)"
   ]
  },
  {
   "cell_type": "code",
   "execution_count": null,
   "id": "a3b05db2-c7d8-4f14-ae5b-91d36579a332",
   "metadata": {},
   "outputs": [],
   "source": [
    "# Not implemented yet\n",
    "def norm_hyst_data(ydata, norm):\n",
    "    \"\"\"\n",
    "    Normalize hysteresis yaxis to +/- 1\n",
    "    \"\"\"\n",
    "    ynorm = []\n",
    "    for i in range(len(ydata)):\n",
    "        tmp = ydata[i] / norm[i]\n",
    "        tmp = tmp - np.mean(tmp[-5:])\n",
    "        tmp = tmp / np.mean(tmp[:5])\n",
    "        tmp = 2 * (tmp - 0.5)\n",
    "        ynorm.append(tmp)\n",
    "\n",
    "    return ynorm"
   ]
  },
  {
   "cell_type": "markdown",
   "id": "83a18703-7ac3-4731-b0e6-6c3bcc6a8170",
   "metadata": {},
   "source": [
    "# Experimental Details"
   ]
  },
  {
   "cell_type": "code",
   "execution_count": null,
   "id": "cc3239b4-0a4f-466d-8bb3-a12e5bf02202",
   "metadata": {
    "tags": []
   },
   "outputs": [],
   "source": [
    "# Dict with basic experimental parameter\n",
    "experimental_setup = {}\n",
    "\n",
    "# General saving folder\n",
    "folder_general = sup.create_folder(join(BASEFOLDER, \"processed\"))\n",
    "print(\"Output Folder: %s\" % folder_general)"
   ]
  },
  {
   "cell_type": "markdown",
   "id": "4b9fea5c-dace-48d1-b632-0518079b66c3",
   "metadata": {},
   "source": [
    "# Single Diode scans"
   ]
  },
  {
   "cell_type": "code",
   "execution_count": null,
   "id": "a3f65339-0204-442e-a7f3-0c05384c7b5b",
   "metadata": {},
   "outputs": [],
   "source": [
    "# Add scan numbers to combine in single plot\n",
    "scan_ids = [2986, 2989]\n",
    "\n",
    "# keys from nxs files (if you are not sure, which you need, open nexus files from beamtime folder and navigate through keys `2310_P04_FGT/raw/FGT`)\n",
    "data_key_x = \"msx\"\n",
    "data_key_y = \"adc_beck_femto_diodemax_mean\"\n",
    "\n",
    "# Normalization of diode signal with I0, e.g., with petra current or gold mesh (needs to be inserted during scan)\n",
    "normalization = False\n",
    "data_key_norm = \"adc_beck_femto_goldmesh_mean\"  # \"petra_curr\"\n",
    "\n",
    "\n",
    "# Load energy/wavelength and add to experimental setup\n",
    "experimental_setup[\"energy\"] = np.array(load_energy(scan_ids[0]))\n",
    "experimental_setup[\"lambda\"] = cci.photon_energy_wavelength(\n",
    "    experimental_setup[\"energy\"], input_unit=\"eV\"\n",
    ")\n",
    "\n",
    "# Load data\n",
    "xdata, ydata, norm = [], [], []\n",
    "for scan_id in tqdm(scan_ids):\n",
    "    xdata.append(load_data(scan_id, data_key_x))\n",
    "    ydata.append(load_data(scan_id, data_key_y))\n",
    "\n",
    "    if normalization is True:\n",
    "        norm.append(load_data(scan_id, data_key_norm))\n",
    "    else:\n",
    "        norm.append(np.ones(load_data(scan_id, data_key_y).shape))"
   ]
  },
  {
   "cell_type": "code",
   "execution_count": null,
   "id": "07cc44f2-dc27-4857-b330-b27dbb6aed96",
   "metadata": {},
   "outputs": [],
   "source": [
    "# Format title and output file name\n",
    "if len(scan_ids) > 1:\n",
    "    title = \"ScanIds: %04d-%04d\" % (scan_ids[0], scan_ids[-1])\n",
    "    fname = join(\n",
    "        folder_general,\n",
    "        \"ScanId_%04d-%04d_Diode_%s.png\" % (scan_ids[0], scan_ids[-1], USER),\n",
    "    )\n",
    "else:\n",
    "    title = \"ScanId: %04d\" % (scan_ids[0])\n",
    "    fname = join(folder_general, \"ScanId_%04d_Diode_%s.png\" % (scan_ids[0], USER))\n",
    "\n",
    "\n",
    "# Plot all scans together\n",
    "fig, ax = plt.subplots()\n",
    "\n",
    "# Iterate over scans\n",
    "for i, _ in enumerate(scan_ids):\n",
    "    ax.plot(\n",
    "        xdata[i],\n",
    "        ydata[i] / norm[i],\n",
    "        \"o-\",\n",
    "        markersize=2,\n",
    "        label=\"Id: %d\" % scan_ids[i],\n",
    "    )\n",
    "\n",
    "# Plotting options\n",
    "ax.set_title(title)\n",
    "ax.set_xlabel(data_key_x)\n",
    "# ax.set_xlim([-0.01, 0.01])\n",
    "# ax.set_ylim([-0.015, 0.015])\n",
    "ax.grid()\n",
    "ax.legend()\n",
    "\n",
    "# Different label with and without normalization\n",
    "if normalization is True:\n",
    "    ax.set_ylabel(data_key_y + \" (normalized by %s)\" % data_key_norm, fontsize=7)\n",
    "else:\n",
    "    ax.set_ylabel(data_key_y + \" (a.u.)\")\n",
    "\n",
    "# Save plot\n",
    "print(\"Saving: %s\" % fname)\n",
    "plt.savefig(fname, dpi=300)"
   ]
  },
  {
   "cell_type": "markdown",
   "id": "d1008289-961d-4c17-9cfb-41e1a06c097a",
   "metadata": {},
   "source": [
    "## Fitting"
   ]
  },
  {
   "cell_type": "code",
   "execution_count": null,
   "id": "a1aaebb6-e9c6-4306-8580-85f59e9dc16e",
   "metadata": {},
   "outputs": [],
   "source": [
    "from scipy.optimize import curve_fit\n",
    "\n",
    "\n",
    "def gaussian(x, a, x0, sigma, c):\n",
    "    return a * np.exp(-((x - x0) ** 2) / (2 * sigma**2)) + c"
   ]
  },
  {
   "cell_type": "code",
   "execution_count": null,
   "id": "af021d5c-f71b-4f8f-96d8-0ac7bb193765",
   "metadata": {},
   "outputs": [],
   "source": [
    "# Add scan numbers to combine in single plot\n",
    "scan_ids = [3382, 3386]\n",
    "\n",
    "# keys from nxs files (if you are not sure, which you need, open nexus files from beamtime folder and navigate through keys `2310_P04_FGT/raw/FGT`)\n",
    "data_key_x = \"msx\"\n",
    "data_key_y = \"adc_beck_femto_diodemax_mean\"\n",
    "\n",
    "# Normalization of diode signal with I0, e.g., with petra current or gold mesh (needs to be inserted during scan)\n",
    "normalization = False\n",
    "data_key_norm = \"adc_beck_femto_goldmesh_mean\"  # \"petra_curr\"\n",
    "\n",
    "\n",
    "# Load energy/wavelength and add to experimental setup\n",
    "experimental_setup[\"energy\"] = np.array(load_energy(scan_ids[0]))\n",
    "experimental_setup[\"lambda\"] = cci.photon_energy_wavelength(\n",
    "    experimental_setup[\"energy\"], input_unit=\"eV\"\n",
    ")\n",
    "\n",
    "# Load data\n",
    "xdata, ydata, norm = [], [], []\n",
    "for scan_id in tqdm(scan_ids):\n",
    "    xdata.append(load_data(scan_id, data_key_x))\n",
    "    ydata.append(load_data(scan_id, data_key_y))\n",
    "\n",
    "    if normalization is True:\n",
    "        norm.append(load_data(scan_id, data_key_norm))\n",
    "    else:\n",
    "        norm.append(np.ones(load_data(scan_id, data_key_y).shape))"
   ]
  },
  {
   "cell_type": "code",
   "execution_count": null,
   "id": "2d8374e3-ae8e-4ff3-a57c-d35af36057a4",
   "metadata": {},
   "outputs": [],
   "source": [
    "# Format title and output file name\n",
    "if len(scan_ids) > 1:\n",
    "    title = \"ScanIds: %04d-%04d\" % (scan_ids[0], scan_ids[-1])\n",
    "    fname = join(\n",
    "        folder_general,\n",
    "        \"ScanId_%04d-%04d_Fit_%s.png\" % (scan_ids[0], scan_ids[-1], USER),\n",
    "    )\n",
    "else:\n",
    "    title = \"ScanId: %04d\" % (scan_ids[0])\n",
    "    fname = join(folder_general, \"ScanId_%04d_Fit_%s.png\" % (scan_ids[0], USER))\n",
    "\n",
    "\n",
    "# Plot all scans together\n",
    "fig, ax = plt.subplots()\n",
    "\n",
    "# Iterate over scans\n",
    "for i, _ in enumerate(scan_ids):\n",
    "    # Fitting\n",
    "    A0 = np.max(ydata[i] / norm[i])\n",
    "    x0 = xdata[i][np.argmax(ydata[i])]\n",
    "    sigma0 = 0.05  # np.abs(xdata[i][0] - xdata[i][-1]) / 3\n",
    "    c0 = 0  # np.min(ydata[i])\n",
    "    popt, pcov = curve_fit(\n",
    "        gaussian, xdata[i], ydata[i] / norm[i], p0=(A0, x0, sigma0, c0)\n",
    "    )\n",
    "    # popt returns the best fit values for parameters of the given model (func)\n",
    "    print(popt)\n",
    "    # ym = gaussian(xdata[i], A0, x0, sigma0, c0)\n",
    "    y = ydata[i] / norm[i]\n",
    "\n",
    "    # Plot diode\n",
    "    p = ax.plot(\n",
    "        xdata[i],\n",
    "        y,\n",
    "        \"o\",\n",
    "        markersize=2,\n",
    "        label=\"Id: %d\" % scan_ids[i],\n",
    "    )\n",
    "    color = p[0].get_color()\n",
    "    # plot fit\n",
    "    x = np.linspace(xdata[i][0], xdata[i][-1], 100)\n",
    "    ym = gaussian(x, popt[0], popt[1], popt[2], popt[3])\n",
    "    ax.plot(\n",
    "        x, ym, color=color, label=\"FWHM = %.3f\" % (2 * np.sqrt(2 * np.log(2)) * popt[2])\n",
    "    )\n",
    "\n",
    "    # Add vline line\n",
    "    ax.axvline(popt[1], 0, 10, color=color)\n",
    "\n",
    "# Plotting options\n",
    "ax.set_title(title)\n",
    "ax.set_xlabel(data_key_x)\n",
    "# ax.set_xlim([-0.01, 0.01])\n",
    "# ax.set_ylim([-0.015, 0.015])\n",
    "ax.grid()\n",
    "ax.legend()\n",
    "\n",
    "# Different label with and without normalization\n",
    "if normalization is True:\n",
    "    ax.set_ylabel(data_key_y + \" (normalized by %s)\" % data_key_norm, fontsize=7)\n",
    "else:\n",
    "    ax.set_ylabel(data_key_y + \" (a.u.)\")\n",
    "\n",
    "# Save plot\n",
    "print(\"Saving: %s\" % fname)\n",
    "plt.savefig(fname)"
   ]
  },
  {
   "cell_type": "markdown",
   "id": "ef5f0e5e-4ac9-4b37-a4db-d0eb3b55b074",
   "metadata": {},
   "source": [
    "# Diode Trace Hysteresis"
   ]
  },
  {
   "cell_type": "code",
   "execution_count": null,
   "id": "141882e2-4fa4-42b9-b6cb-ffb22a9b4ac2",
   "metadata": {},
   "outputs": [],
   "source": [
    "def ramp_tan(npts: int, s: float, full=False):\n",
    "    \"\"\"Calculate truncated tangent ramp function.\n",
    "\n",
    "    Parameters\n",
    "    ==========\n",
    "    npts: int\n",
    "        Number of points to calculate\n",
    "    s: float\n",
    "        shape parameter (0<s≤1) varies curve from linear (s→0) to tan-shaped\n",
    "    full: bool\n",
    "        If True, return both arms of the loop by mirroring. This effectively\n",
    "        doubles the number of points.\n",
    "\n",
    "    Returns\n",
    "    =======\n",
    "    ramp: np.ndarray\n",
    "        normalized ramp values\n",
    "    \"\"\"\n",
    "    # if (s <= 0) or (s > 1):\n",
    "    #     raise ValueError(\"shape parameter out of range 0<s≤1\")\n",
    "    x = s * np.linspace(-np.pi / 2, np.pi / 2, npts)\n",
    "    y = np.tan(x) / np.tan(np.pi * s / 2)\n",
    "    if full:\n",
    "        y = np.append(y, y[::-1][1:])\n",
    "    return y"
   ]
  },
  {
   "cell_type": "code",
   "execution_count": null,
   "id": "888be299-12a7-4b90-af1e-f9df05e73a47",
   "metadata": {},
   "outputs": [],
   "source": [
    "def normalize(arr):\n",
    "    return (arr - arr.min()) / (arr.max() - arr.min())"
   ]
  },
  {
   "cell_type": "code",
   "execution_count": null,
   "id": "0f3bf6a3-9e00-4163-adf4-c138ab27b011",
   "metadata": {},
   "outputs": [],
   "source": [
    "# Choose scan id\n",
    "scan_id = 2511\n",
    "\n",
    "filter_f = True\n",
    "filter_freq = 4\n",
    "\n",
    "# Load trace data\n",
    "fields = [\n",
    "    f\"adc_beck_femto_diodemax_trace\",\n",
    "    \"adc_beck_femto_goldmesh_trace\",\n",
    "    \"adc_beck_mtesla_trace\",\n",
    "]\n",
    "adcs = [load_data(scan_id, f) for f in fields]\n",
    "\n",
    "# Filter beamline oszilattions\n",
    "if filter_f is True:\n",
    "    for i in [0]:  # , 1, 2]:\n",
    "        for k in range(len(adcs[i])):\n",
    "            adcs[i][k], _, _ = bandpass(adcs[i][k], filter_freq, 100000)"
   ]
  },
  {
   "cell_type": "code",
   "execution_count": null,
   "id": "88760996-87da-4cf4-bd10-28cc64c6f3fb",
   "metadata": {},
   "outputs": [],
   "source": [
    "# diode\n",
    "cimshow(adcs[0], aspect=\"auto\")"
   ]
  },
  {
   "cell_type": "code",
   "execution_count": null,
   "id": "f2c965ad-be51-454e-814f-57a0170d5960",
   "metadata": {},
   "outputs": [],
   "source": [
    "# Mesh\n",
    "cimshow(adcs[1], aspect=\"auto\")"
   ]
  },
  {
   "cell_type": "code",
   "execution_count": null,
   "id": "b5dfe68c-38d9-4472-8918-10a19b494a6a",
   "metadata": {},
   "outputs": [],
   "source": [
    "# fields\n",
    "cimshow(adcs[2], aspect=\"auto\")"
   ]
  },
  {
   "cell_type": "code",
   "execution_count": null,
   "id": "f49f6f6d-e26c-407a-a6f7-23ac35ef1dc6",
   "metadata": {},
   "outputs": [],
   "source": [
    "# Create xarray dataset\n",
    "ds = xr.Dataset()\n",
    "ds[\"fields\"] = (\"index\", adcs[2][:, 10:-10].flatten())  # magnetic field\n",
    "ds[\"diode\"] = (\"index\", adcs[0][:, 10:-10].flatten())  # diode current\n",
    "ds[\"mesh\"] = (\"index\", adcs[1][:, 10:-10].flatten())  # mesh current for normalization\n",
    "ds[\"rising\"] = (\n",
    "    \"index\",\n",
    "    gaussian_filter1d(np.gradient(ds[\"fields\"]), 20) > 0,\n",
    ")  # which hysteresis branch"
   ]
  },
  {
   "cell_type": "code",
   "execution_count": null,
   "id": "68563bc4-92ba-4b32-883f-b350d9389e93",
   "metadata": {},
   "outputs": [],
   "source": [
    "bins = np.max(ds.fields.values) * ramp_tan(100, 0.5, False)\n",
    "\n",
    "ds_sel = ds\n",
    "# ds_fit = ds.sel(index=range(9000))\n",
    "ds_sel[\"rising\"] = ds_sel.rising.astype(bool)\n",
    "up = ds_sel.where(ds_sel.rising).groupby_bins(\"fields\", bins).mean()\n",
    "down = ds_sel.where(~ds_sel.rising).groupby_bins(\"fields\", bins).mean()"
   ]
  },
  {
   "cell_type": "raw",
   "id": "6e297d18-1574-4ace-a77a-712fb43af7e5",
   "metadata": {},
   "source": [
    "up_c = up.copy()\n",
    "down_c = down.copy()"
   ]
  },
  {
   "cell_type": "code",
   "execution_count": null,
   "id": "9845c1da-bec1-4849-8f2f-29efb6306033",
   "metadata": {
    "tags": []
   },
   "outputs": [],
   "source": [
    "fig, ax = plt.subplots(2, 1, figsize=(8, 8), sharex=True, sharey=True)\n",
    "fig.suptitle(\"scan %d: field sweep @ 0.2Hz\" % (scan_id))\n",
    "ax[0].plot(1e2 * up.fields, 2 * normalize(up.diode / up.mesh) - 1, \"o\", ms=3)\n",
    "ax[0].plot(1e2 * down.fields, 2 * normalize(down.diode / down.mesh) - 1, \"o\", ms=3)\n",
    "ax[0].set_xlabel(\"field (mT)\")\n",
    "ax[0].set_ylabel(\"diode / mesh (arb. units)\")\n",
    "ax[0].set_title(\"After Lowpass-Filtering of diode traces with 4Hz threshold\")\n",
    "ax[0].grid()\n",
    "\n",
    "ax[1].plot(1e2 * up_c.fields, 2 * normalize(up_c.diode / up_c.mesh) - 1, \"o\", ms=3)\n",
    "ax[1].plot(\n",
    "    1e2 * down_c.fields, 2 * normalize(down_c.diode / down_c.mesh) - 1, \"o\", ms=3\n",
    ")\n",
    "ax[1].set_xlabel(\"field (mT)\")\n",
    "ax[1].set_ylabel(\"diode / mesh (arb. units)\")\n",
    "ax[1].set_title(\"Referenz: Scan 2499 - Cobalt Edge\")\n",
    "ax[1].grid()\n",
    "\n",
    "fname = join(folder_general, \"ScanId_%04d_filtering_%s.png\" % (scan_id, USER))\n",
    "print(\"Saving: %s\" % fname)\n",
    "plt.savefig(fname, dpi=300)"
   ]
  },
  {
   "cell_type": "code",
   "execution_count": null,
   "id": "02a5120f-f9ba-4881-9281-55629f91345c",
   "metadata": {
    "tags": []
   },
   "outputs": [],
   "source": [
    "fig, ax = plt.subplots()\n",
    "ax.plot(1e2 * up.fields, 2 * normalize(up.diode / up.mesh) - 1, \"o\", ms=3)\n",
    "ax.plot(1e2 * down.fields, 2 * normalize(down.diode / down.mesh) - 1, \"o\", ms=3)\n",
    "ax.set_xlabel(\"field (mT)\")\n",
    "ax.set_ylabel(\"diode / mesh (arb. units)\")\n",
    "ax.set_title(\"scan %d: field sweep @ 0.2Hz\" % (scan_id))\n",
    "ax.grid()\n",
    "\n",
    "fname = join(folder_general, \"ScanId_%04d_Diode_Trace_%s.png\" % (scan_id, USER))\n",
    "print(\"Saving: %s\" % fname)\n",
    "plt.savefig(fname, dpi=300)"
   ]
  },
  {
   "cell_type": "markdown",
   "id": "30869638-e6ad-4a24-b61b-0e6bf607e665",
   "metadata": {},
   "source": [
    "# Individal Diode Traces (not updated)"
   ]
  },
  {
   "cell_type": "code",
   "execution_count": null,
   "id": "9eddcffd-5890-452c-aae3-16d6056b70aa",
   "metadata": {},
   "outputs": [],
   "source": [
    "scan_ids = [2511]\n",
    "data_key_x = \"adc_beck_mtesla_trace\"\n",
    "data_key_y = \"adc_beck_femto_diodemax_trace\"\n",
    "\n",
    "xdata = []\n",
    "ydata = []\n",
    "for scan_id in tqdm(scan_ids):\n",
    "    xdata.append(np.array(load_data(scan_id, data_key_x)))\n",
    "    ydata.append(np.array(load_data(scan_id, data_key_y)))\n",
    "\n",
    "xdata = np.squeeze(np.array(xdata))\n",
    "ydata = np.squeeze(np.array(ydata))"
   ]
  },
  {
   "cell_type": "code",
   "execution_count": null,
   "id": "95847294-4335-4bef-b379-a305c3a35350",
   "metadata": {},
   "outputs": [],
   "source": [
    "from interactive import cimshow"
   ]
  },
  {
   "cell_type": "code",
   "execution_count": null,
   "id": "5d3dc406-4c3f-4e3f-8988-ff251808e1fc",
   "metadata": {},
   "outputs": [],
   "source": [
    "cimshow(xdata, aspect=\"auto\")"
   ]
  },
  {
   "cell_type": "code",
   "execution_count": null,
   "id": "e0e8daa6-6431-44c5-b358-71690f0eb7e2",
   "metadata": {
    "tags": []
   },
   "outputs": [],
   "source": [
    "fig, ax = plt.subplots()\n",
    "for i in [0]:  # range(0, 1):\n",
    "    data_trace = ydata[i]\n",
    "    cummean = np.cumsum(data_trace) / np.cumsum(np.ones(data_trace.shape))\n",
    "    ax.plot(\n",
    "        data_trace,\n",
    "        # label=\"diode trace: %s, value: %s\" % (data_key_x, np.round(xdata[i], 2)),\n",
    "    )\n",
    "    ax.plot(cummean, label=\"cummean\")\n",
    "    ax.legend()"
   ]
  },
  {
   "cell_type": "code",
   "execution_count": null,
   "id": "33b782cb-647a-4577-b62f-29290a08039e",
   "metadata": {},
   "outputs": [],
   "source": [
    "def bandpass(trace, freq1, freq2):\n",
    "    spectra = np.fft.fft(trace)\n",
    "    frequency = np.fft.fftfreq(trace.shape[0], 1e-3)\n",
    "\n",
    "    idx = np.where((np.abs(frequency) > freq1) & (np.abs(frequency) < freq2))\n",
    "    spectra[idx] = 0\n",
    "\n",
    "    trace = np.fft.ifft(spectra)\n",
    "\n",
    "    return trace, spectra, frequency"
   ]
  },
  {
   "cell_type": "code",
   "execution_count": null,
   "id": "64e3095b-3d7f-4a81-83de-03de7dff198a",
   "metadata": {},
   "outputs": [],
   "source": [
    "#\n",
    "# test_trace, spectra, frequency = bandpass(data_trace, 24, 26)\n",
    "# test_trace, spectra, frequency = bandpass(data_trace, 0, 5)\n",
    "test_trace, spectra, frequency = bandpass(data_trace, 4, 100000)\n",
    "\n",
    "fig, ax = plt.subplots(2, 1)\n",
    "ax[0].plot(\n",
    "    np.fft.fftfreq(data_trace.shape[0], 1e-3), np.fft.fft(data_trace), label=\"before\"\n",
    ")\n",
    "ax[0].plot(frequency, spectra, label=\"after\")\n",
    "ax[0].set_yscale(\"log\")\n",
    "ax[0].grid()\n",
    "ax[0].set_xlim([0, 200])\n",
    "ax[0].set_ylim([0, 50])\n",
    "ax[0].legend()\n",
    "ax[1].plot(data_trace, label=\"before\")\n",
    "ax[1].plot(test_trace, label=\"after\")\n",
    "# ax.set_xlim([0, 200])\n",
    "ax[1].set_ylim([2.5, 2.7])\n",
    "ax[1].legend()\n",
    "ax[1].grid()"
   ]
  },
  {
   "cell_type": "code",
   "execution_count": null,
   "id": "e5e6a664-33d4-470a-a550-510450548a48",
   "metadata": {},
   "outputs": [],
   "source": [
    "#\n",
    "# test_trace, spectra, frequency = bandpass(data_trace, 24, 26)\n",
    "# test_trace, spectra, frequency = bandpass(data_trace, 0, 5)\n",
    "test_trace, spectra, frequency = bandpass(data_trace, 4, 100000)\n",
    "\n",
    "fig, ax = plt.subplots(2, 1)\n",
    "ax[0].plot(\n",
    "    np.fft.fftfreq(data_trace.shape[0], 1e-3),\n",
    "    np.abs(np.fft.fft(data_trace)),\n",
    "    label=\"before\",\n",
    ")\n",
    "# ax[0].plot(frequency, spectra, label=\"after\")\n",
    "# ax[0].set_yscale(\"log\")\n",
    "ax[0].grid()\n",
    "ax[0].set_xlim([0, 100])\n",
    "ax[0].set_ylim([0, 50])\n",
    "ax[0].set_xlabel(\"Frequency (Hz)\")\n",
    "# ax[0].legend()\n",
    "ax[1].plot(data_trace, label=\"before\")\n",
    "# ax[1].plot(test_trace, label=\"after\")\n",
    "# ax.set_xlim([0, 200])\n",
    "ax[1].set_ylim([2.5, 2.7])\n",
    "ax[1].legend()\n",
    "ax[1].grid()\n",
    "ax[1].set_xlabel(\"Single Diode Trace\")"
   ]
  },
  {
   "cell_type": "code",
   "execution_count": null,
   "id": "8e41ffe4-9dda-4180-a345-9429c0004fb8",
   "metadata": {},
   "outputs": [],
   "source": [
    "#\n",
    "idx = np.where(\n",
    "    (np.fft.fftfreq(data_trace.shape[0], 1e-3) > 24)\n",
    "    & (np.fft.fftfreq(data_trace.shape[0], 1e-3) < 26)\n",
    ")\n",
    "test = np.fft.fft(data_trace)\n",
    "test[idx] = 0\n",
    "\n",
    "\n",
    "idx = np.where(\n",
    "    (np.fft.fftfreq(data_trace.shape[0], 1e-3) > 24)\n",
    "    & (np.fft.fftfreq(data_trace.shape[0], 1e-3) < 26)\n",
    ")\n",
    "test[idx] = 0\n",
    "\n",
    "\n",
    "fig, ax = plt.subplots(2, 1)\n",
    "ax[0].plot(\n",
    "    np.fft.fftfreq(data_trace.shape[0], 1e-3), np.fft.fft(data_trace), label=\"before\"\n",
    ")\n",
    "ax[0].plot(np.fft.fftfreq(data_trace.shape[0], 1e-3), test, label=\"after\")\n",
    "ax[0].grid()\n",
    "ax[0].set_xlim([0, 200])\n",
    "ax[0].set_ylim([0, 50])\n",
    "ax[0].legend()\n",
    "ax[1].plot(data_trace, label=\"before\")\n",
    "ax[1].plot(test2, label=\"after\")\n",
    "# ax.set_xlim([0, 200])\n",
    "ax[1].set_ylim([2.5, 2.7])\n",
    "ax[1].legend()\n",
    "ax[1].grid()"
   ]
  },
  {
   "cell_type": "code",
   "execution_count": null,
   "id": "bbe2b235-1145-4464-8fa3-0ec85d21a189",
   "metadata": {},
   "outputs": [],
   "source": []
  },
  {
   "cell_type": "code",
   "execution_count": null,
   "id": "cbc0d35f-16a2-4df6-9b58-1feb646680f2",
   "metadata": {},
   "outputs": [],
   "source": [
    "fig, ax = plt.subplots()\n",
    "for i in range(0, 1):\n",
    "    # time = np.arange(0, data_trace.shape[0]).astype(int)  # in s\n",
    "    ax.plot(np.fft.fftfreq(data_trace.shape[0], 1e-3), np.fft.fft(ydata[i]))\n",
    "ax.set_xlim([0, 200])\n",
    "ax.set_ylim([0, 50])"
   ]
  },
  {
   "cell_type": "code",
   "execution_count": null,
   "id": "d076442c-f10a-4e79-ab39-b9d6e89616b7",
   "metadata": {},
   "outputs": [],
   "source": [
    "fig, ax = plt.subplots()\n",
    "\n",
    "for i, _ in enumerate(scan_ids):\n",
    "    ax.plot(xdata, ydata[i], \"o-\", markersize=1)\n",
    "ax.set_title(\"ImId: %04d-%04d\" % (scan_ids[0], scan_ids[-1]))\n",
    "ax.set_xlabel(data_key_x)\n",
    "ax.set_ylabel(data_key_y)\n",
    "ax.grid()\n",
    "\n",
    "fname = join(\n",
    "    folder_general, \"ImId_%04d-%04d_Diode_%s.png\" % (scan_ids[0], scan_ids[-1], USER)\n",
    ")\n",
    "print(\"Saving: %s\" % fname)\n",
    "# plt.savefig(fname)"
   ]
  },
  {
   "cell_type": "code",
   "execution_count": null,
   "id": "e9c51c3b-2d25-4828-bc79-bfe163f7613a",
   "metadata": {},
   "outputs": [],
   "source": []
  }
 ],
 "metadata": {
  "kernelspec": {
   "display_name": "Python 3 (ipykernel)",
   "language": "python",
   "name": "python3"
  },
  "language_info": {
   "codemirror_mode": {
    "name": "ipython",
    "version": 3
   },
   "file_extension": ".py",
   "mimetype": "text/x-python",
   "name": "python",
   "nbconvert_exporter": "python",
   "pygments_lexer": "ipython3",
   "version": "3.11.5"
  },
  "toc-showcode": false
 },
 "nbformat": 4,
 "nbformat_minor": 5
}
