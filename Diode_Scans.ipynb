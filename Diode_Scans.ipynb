{
 "cells": [
  {
   "cell_type": "markdown",
   "id": "98bb361a-4fb6-461e-80a5-523b5e17c1ca",
   "metadata": {},
   "source": [
    "# Initalize libraries"
   ]
  },
  {
   "cell_type": "markdown",
   "id": "0da40b57-6467-45ee-b067-3d55970bcdba",
   "metadata": {},
   "source": [
    "## Import libraries"
   ]
  },
  {
   "cell_type": "code",
   "execution_count": 10,
   "id": "fae16cf5-86c2-4727-9d1d-2683d107d282",
   "metadata": {},
   "outputs": [
    {
     "name": "stderr",
     "output_type": "stream",
     "text": [
      "WARNING:silx.opencl.common:The module pyOpenCL has been imported but can't be used here\n"
     ]
    }
   ],
   "source": [
    "import sys, os\n",
    "import time\n",
    "from os.path import join\n",
    "from os import path\n",
    "from importlib import reload\n",
    "from getpass import getuser\n",
    "import xarray as xr\n",
    "import h5py\n",
    "from tqdm.auto import tqdm\n",
    "\n",
    "import numpy as np\n",
    "import matplotlib.pyplot as plt\n",
    "\n",
    "# Misc\n",
    "from scipy.ndimage import gaussian_filter1d\n",
    "\n",
    "# Open nexus files\n",
    "from nexusformat.nexus import *\n",
    "\n",
    "# Self-written libraries\n",
    "sys.path.append(join(os.getcwd(),\"library\"))\n",
    "import support_functions as sup\n",
    "from interactive import cimshow\n",
    "\n",
    "# Gifs\n",
    "import imageio\n",
    "\n",
    "plt.rcParams[\"figure.constrained_layout.use\"] = True  # replaces plt.tight_layout"
   ]
  },
  {
   "cell_type": "code",
   "execution_count": 3,
   "id": "ef13f839-af3a-4b32-83cf-722ac1a68313",
   "metadata": {},
   "outputs": [
    {
     "name": "stdout",
     "output_type": "stream",
     "text": [
      "GPU available\n"
     ]
    }
   ],
   "source": [
    "# Is there a GPU?\n",
    "try:\n",
    "    # Cupy\n",
    "    import cupy as cp\n",
    "    import cupyx as cpx\n",
    "\n",
    "    GPU = True\n",
    "\n",
    "    print(\"GPU available\")\n",
    "\n",
    "    # Self-written library\n",
    "    import CCI_core_cupy as cci\n",
    "    import Phase_Retrieval as PhR\n",
    "except:\n",
    "    GPU = False\n",
    "    import CCI_core as cci\n",
    "\n",
    "    print(\"GPU unavailable\")"
   ]
  },
  {
   "cell_type": "code",
   "execution_count": 4,
   "id": "5b2da438-226a-47d5-91b8-f5acc9664aa0",
   "metadata": {
    "tags": []
   },
   "outputs": [],
   "source": [
    "# interactive plotting\n",
    "import ipywidgets\n",
    "%matplotlib widget\n",
    "\n",
    "# Auto formatting of cells\n",
    "#%load_ext jupyter_black"
   ]
  },
  {
   "cell_type": "markdown",
   "id": "e3408ae5-de64-411e-a3e3-f926b19134ab",
   "metadata": {},
   "source": [
    "## Experiment specific Functions"
   ]
  },
  {
   "cell_type": "code",
   "execution_count": 11,
   "id": "1398e982-030a-45f2-9bc5-500cd48d86fb",
   "metadata": {},
   "outputs": [],
   "source": [
    "PROPOSAL = 11018955\n",
    "USER = getuser()"
   ]
  },
  {
   "cell_type": "code",
   "execution_count": 60,
   "id": "67e0539b-b478-4e28-b1b1-f63a41cef975",
   "metadata": {},
   "outputs": [],
   "source": [
    "BASEFOLDER = \"/asap3/petra3/gpfs/p04/2024/data/%s/\" % PROPOSAL\n",
    "sample_name = \"2403_tomo\"\n",
    "\n",
    "\n",
    "# Load any kind of data from collection\n",
    "def load_pre_scan_snapshot(scan_id, key):\n",
    "    fname = join(BASEFOLDER, \"raw\", \"%s_%05d.h5\" % (sample_name,scan_id))\n",
    "    entry = \"entry%d\"%scan_id\n",
    "    \n",
    "    with h5py.File(fname, \"r\") as f:\n",
    "        data = np.array(f[entry][\"measurement\"][\"pre_scan_snapshot\"][key][()])\n",
    "        print(\"Loaded: %s\" % (fname))\n",
    "    return np.squeeze(data)\n",
    "\n",
    "# Load any kind of data from measurements\n",
    "def load_data(scan_id, key):\n",
    "    fname = join(BASEFOLDER, \"raw\", \"%s_%05d.h5\" % (sample_name,scan_id))\n",
    "    entry = \"entry%d\"%scan_id\n",
    "\n",
    "    with h5py.File(fname, \"r\") as f:\n",
    "        data = np.array(f[entry][\"measurement\"][key][()])\n",
    "        print(\"Loaded key %s of %s\" % (key, entry))\n",
    "    return np.squeeze(data)"
   ]
  },
  {
   "cell_type": "code",
   "execution_count": 61,
   "id": "a3b05db2-c7d8-4f14-ae5b-91d36579a332",
   "metadata": {},
   "outputs": [],
   "source": [
    "# Not implemented yet\n",
    "def norm_hyst_data(ydata, norm):\n",
    "    \"\"\"\n",
    "    Normalize hysteresis yaxis to +/- 1\n",
    "    \"\"\"\n",
    "    ynorm = []\n",
    "    for i in range(len(ydata)):\n",
    "        tmp = ydata[i] / norm[i]\n",
    "        tmp = tmp - np.mean(tmp[-5:])\n",
    "        tmp = tmp / np.mean(tmp[:5])\n",
    "        tmp = 2 * (tmp - 0.5)\n",
    "        ynorm.append(tmp)\n",
    "\n",
    "    return ynorm"
   ]
  },
  {
   "cell_type": "code",
   "execution_count": 62,
   "id": "a1aaebb6-e9c6-4306-8580-85f59e9dc16e",
   "metadata": {},
   "outputs": [],
   "source": [
    "from scipy.optimize import curve_fit\n",
    "def gaussian(x, a, x0, sigma, c):\n",
    "    return a * np.exp(-((x - x0) ** 2) / (2 * sigma**2)) + c"
   ]
  },
  {
   "cell_type": "markdown",
   "id": "83a18703-7ac3-4731-b0e6-6c3bcc6a8170",
   "metadata": {},
   "source": [
    "# Experimental Details"
   ]
  },
  {
   "cell_type": "code",
   "execution_count": 63,
   "id": "cc3239b4-0a4f-466d-8bb3-a12e5bf02202",
   "metadata": {
    "tags": []
   },
   "outputs": [
    {
     "name": "stdout",
     "output_type": "stream",
     "text": [
      "Output Folder: /asap3/petra3/gpfs/p04/2024/data/11018955/processed\n"
     ]
    }
   ],
   "source": [
    "# Dict with basic experimental parameter\n",
    "experimental_setup = {}\n",
    "\n",
    "# General saving folder\n",
    "folder_general = sup.create_folder(join(BASEFOLDER, \"processed\"))\n",
    "print(\"Output Folder: %s\" % folder_general)\n"
   ]
  },
  {
   "cell_type": "markdown",
   "id": "4b9fea5c-dace-48d1-b632-0518079b66c3",
   "metadata": {},
   "source": [
    "# Single Diode scans"
   ]
  },
  {
   "cell_type": "code",
   "execution_count": 71,
   "id": "a3f65339-0204-442e-a7f3-0c05384c7b5b",
   "metadata": {},
   "outputs": [
    {
     "data": {
      "application/vnd.jupyter.widget-view+json": {
       "model_id": "c8c99b0e068548a2b5228d754f6d0086",
       "version_major": 2,
       "version_minor": 0
      },
      "text/plain": [
       "  0%|          | 0/1 [00:00<?, ?it/s]"
      ]
     },
     "metadata": {},
     "output_type": "display_data"
    },
    {
     "name": "stdout",
     "output_type": "stream",
     "text": [
      "Loaded key sz of entry172\n",
      "Loaded key maxibeckhoff1adc1_rmean of entry172\n"
     ]
    }
   ],
   "source": [
    "# Add scan numbers to combine in single plot\n",
    "scan_ids = [172]\n",
    "\n",
    "# keys from nxs files (if you are not sure, which you need, open nexus files from beamtime folder and navigate through keys `2310_P04_FGT/raw/FGT`)\n",
    "data_key_x = \"sz\" # \"energy\", \"sx\", \"sy\"\n",
    "data_key_y = \"maxibeckhoff1adc1_rmean\"\n",
    "\n",
    "# Normalization of diode signal with I0, e.g., with petra current or gold mesh (needs to be inserted during scan)\n",
    "normalization = False\n",
    "data_key_norm = \"maxibeckhoff1adc2_rmean\"  # \"petra_curr\"\n",
    "\n",
    "\n",
    "# Load energy/wavelength and add to experimental setup\n",
    "try:\n",
    "    experimental_setup[\"energy\"] = np.array(load_energy(scan_ids[0]))\n",
    "    experimental_setup[\"lambda\"] = cci.photon_energy_wavelength(\n",
    "        experimental_setup[\"energy\"], input_unit=\"eV\"\n",
    "    )\n",
    "except:\n",
    "    pass\n",
    "\n",
    "# Load data\n",
    "xdata, ydata, norm = [], [], []\n",
    "for scan_id in tqdm(scan_ids):\n",
    "    xdata.append(load_data(scan_id, data_key_x))\n",
    "    ydata.append(load_data(scan_id, data_key_y))\n",
    "\n",
    "    if normalization is True:\n",
    "        norm.append(load_data(scan_id, data_key_norm))\n",
    "    else:\n",
    "        norm.append(np.ones(ydata[-1].shape))"
   ]
  },
  {
   "cell_type": "code",
   "execution_count": 70,
   "id": "07cc44f2-dc27-4857-b330-b27dbb6aed96",
   "metadata": {},
   "outputs": [
    {
     "name": "stdout",
     "output_type": "stream",
     "text": [
      "Saving: /asap3/petra3/gpfs/p04/2024/data/11018955/processed/ScanId_0164_Diode_cklose.png\n"
     ]
    },
    {
     "data": {
      "image/png": "[encoded data removed]",
      "text/plain": [
       "<Figure size 640x480 with 1 Axes>"
      ]
     },
     "metadata": {},
     "output_type": "display_data"
    }
   ],
   "source": [
    "# Format title and output file name\n",
    "if len(scan_ids) > 1:\n",
    "    title = \"ScanIds: %04d-%04d\" % (scan_ids[0], scan_ids[-1])\n",
    "    fname = join(\n",
    "        folder_general,\n",
    "        \"ScanId_%04d-%04d_Diode_%s.png\" % (scan_ids[0], scan_ids[-1], USER),\n",
    "    )\n",
    "else:\n",
    "    title = \"ScanId: %04d\" % (scan_ids[0])\n",
    "    fname = join(folder_general, \"ScanId_%04d_Diode_%s.png\" % (scan_ids[0], USER))\n",
    "\n",
    "\n",
    "# Plot all scans together\n",
    "fig, ax = plt.subplots()\n",
    "\n",
    "# Iterate over scans\n",
    "for i, _ in enumerate(scan_ids):\n",
    "    ax.plot(\n",
    "        xdata[i],\n",
    "        ydata[i] / norm[i],\n",
    "        \"o-\",\n",
    "        markersize=2,\n",
    "        label=\"Id: %d\" % scan_ids[i],\n",
    "    )\n",
    "\n",
    "# Plotting options\n",
    "ax.set_title(title)\n",
    "ax.set_xlabel(data_key_x)\n",
    "# ax.set_xlim([-0.01, 0.01])\n",
    "# ax.set_ylim([-0.015, 0.015])\n",
    "ax.grid()\n",
    "ax.legend()\n",
    "\n",
    "# Different label with and without normalization\n",
    "if normalization is True:\n",
    "    ax.set_ylabel(data_key_y + \" (normalized by %s)\" % data_key_norm, fontsize=7)\n",
    "else:\n",
    "    ax.set_ylabel(data_key_y + \" (a.u.)\")\n",
    "\n",
    "# Save plot\n",
    "print(\"Saving: %s\" % fname)\n",
    "plt.savefig(fname, dpi=300)"
   ]
  },
  {
   "cell_type": "markdown",
   "id": "d1008289-961d-4c17-9cfb-41e1a06c097a",
   "metadata": {},
   "source": [
    "## Fitting of scans with a gaussian"
   ]
  },
  {
   "cell_type": "code",
   "execution_count": 74,
   "id": "af021d5c-f71b-4f8f-96d8-0ac7bb193765",
   "metadata": {},
   "outputs": [
    {
     "data": {
      "application/vnd.jupyter.widget-view+json": {
       "model_id": "579507017fda4b3894fd71f0ffcc18a1",
       "version_major": 2,
       "version_minor": 0
      },
      "text/plain": [
       "  0%|          | 0/1 [00:00<?, ?it/s]"
      ]
     },
     "metadata": {},
     "output_type": "display_data"
    },
    {
     "name": "stdout",
     "output_type": "stream",
     "text": [
      "Loaded key sy of entry173\n",
      "Loaded key maxibeckhoff1adc1_rmean of entry173\n"
     ]
    }
   ],
   "source": [
    "# Add scan numbers to combine in single plot\n",
    "scan_ids = [173]\n",
    "\n",
    "# keys from nxs files (if you are not sure, which you need, open nexus files from beamtime folder and navigate through keys `2310_P04_FGT/raw/FGT`)\n",
    "data_key_x = \"sy\"\n",
    "data_key_y = \"maxibeckhoff1adc1_rmean\"\n",
    "\n",
    "# Normalization of diode signal with I0, e.g., with petra current or gold mesh (needs to be inserted during scan)\n",
    "normalization = False\n",
    "data_key_norm = \"adc_beck_femto_goldmesh_mean\"  # \"petra_curr\"\n",
    "\n",
    "\n",
    "# Load energy/wavelength and add to experimental setup\n",
    "try:\n",
    "    experimental_setup[\"energy\"] = np.array(load_energy(scan_ids[0]))\n",
    "    experimental_setup[\"lambda\"] = cci.photon_energy_wavelength(\n",
    "        experimental_setup[\"energy\"], input_unit=\"eV\"\n",
    "    )\n",
    "except:\n",
    "    pass\n",
    "\n",
    "# Load data\n",
    "xdata, ydata, norm = [], [], []\n",
    "for scan_id in tqdm(scan_ids):\n",
    "    xdata.append(load_data(scan_id, data_key_x))\n",
    "    ydata.append(load_data(scan_id, data_key_y))\n",
    "\n",
    "    if normalization is True:\n",
    "        norm.append(load_data(scan_id, data_key_norm))\n",
    "    else:\n",
    "        norm.append(np.ones(ydata[-1].shape))"
   ]
  },
  {
   "cell_type": "code",
   "execution_count": 75,
   "id": "2d8374e3-ae8e-4ff3-a57c-d35af36057a4",
   "metadata": {},
   "outputs": [
    {
     "name": "stdout",
     "output_type": "stream",
     "text": [
      "Scan 173: A=1.656389, x=-1.143593, sigma=0.006403, c=0.020215\n",
      "Saving: /asap3/petra3/gpfs/p04/2024/data/11018955/processed/ScanId_0173_Fit_cklose.png\n"
     ]
    },
    {
     "data": {
      "image/png": "[encoded data removed]",
      "text/plain": [
       "<Figure size 640x480 with 1 Axes>"
      ]
     },
     "metadata": {},
     "output_type": "display_data"
    }
   ],
   "source": [
    "# Format title and output file name\n",
    "if len(scan_ids) > 1:\n",
    "    title = \"ScanIds: %04d-%04d\" % (scan_ids[0], scan_ids[-1])\n",
    "    fname = join(\n",
    "        folder_general,\n",
    "        \"ScanId_%04d-%04d_Fit_%s.png\" % (scan_ids[0], scan_ids[-1], USER),\n",
    "    )\n",
    "else:\n",
    "    title = \"ScanId: %04d\" % (scan_ids[0])\n",
    "    fname = join(folder_general, \"ScanId_%04d_Fit_%s.png\" % (scan_ids[0], USER))\n",
    "\n",
    "\n",
    "# Plot all scans together\n",
    "fig, ax = plt.subplots()\n",
    "\n",
    "fit = True\n",
    "\n",
    "# Iterate over scans\n",
    "for i, scan_id in enumerate(scan_ids):\n",
    "    # Plot diode\n",
    "    y = ydata[i] / norm[i]\n",
    "    p = ax.plot(\n",
    "        xdata[i],\n",
    "        y,\n",
    "        \"o\",\n",
    "        markersize=2,\n",
    "        label=\"Id: %d\" % scan_ids[i],\n",
    "    )\n",
    "    \n",
    "    # Initial fitting Parameter\n",
    "    if fit is True:\n",
    "        A0 = np.max(ydata[i] / norm[i])\n",
    "        x0 = xdata[i][np.argmax(ydata[i])]\n",
    "        sigma0 = 0.01\n",
    "        c0 = 0  # np.min(ydata[i])\n",
    "        popt, pcov = curve_fit(\n",
    "            gaussian, xdata[i], y, p0=(A0, x0, sigma0, c0)\n",
    "        )\n",
    "        # popt returns the best fit values for parameters of the given model (func)\n",
    "        print(\"Scan %d: A=%02f, x=%02f, sigma=%02f, c=%02f\"%(scan_id,popt[0],popt[1],popt[2],popt[3]))\n",
    "        color = p[0].get_color()\n",
    "        # plot fit\n",
    "        x = np.linspace(xdata[i][0], xdata[i][-1], 100)\n",
    "        ym = gaussian(x, popt[0], popt[1], popt[2], popt[3])\n",
    "        ax.plot(\n",
    "            x, ym, color=color, label=\"FWHM = %.3f\" % (2 * np.sqrt(2 * np.log(2)) * popt[2])\n",
    "        )\n",
    "\n",
    "        # Add vline line\n",
    "        ax.axvline(popt[1], 0, 10, color=color)\n",
    "\n",
    "# Plotting options\n",
    "ax.set_title(title)\n",
    "ax.set_xlabel(data_key_x)\n",
    "# ax.set_xlim([-0.01, 0.01])\n",
    "# ax.set_ylim([-0.015, 0.015])\n",
    "ax.grid()\n",
    "ax.legend()\n",
    "\n",
    "# Different label with and without normalization\n",
    "if normalization is True:\n",
    "    ax.set_ylabel(data_key_y + \" (normalized by %s)\" % data_key_norm, fontsize=7)\n",
    "else:\n",
    "    ax.set_ylabel(data_key_y + \" (a.u.)\")\n",
    "\n",
    "# Save plot\n",
    "print(\"Saving: %s\" % fname)\n",
    "plt.savefig(fname)"
   ]
  },
  {
   "cell_type": "markdown",
   "id": "ef5f0e5e-4ac9-4b37-a4db-d0eb3b55b074",
   "metadata": {},
   "source": [
    "# Diode Trace Hysteresis"
   ]
  },
  {
   "cell_type": "code",
   "execution_count": null,
   "id": "141882e2-4fa4-42b9-b6cb-ffb22a9b4ac2",
   "metadata": {},
   "outputs": [],
   "source": [
    "def ramp_tan(npts: int, s: float, full=False):\n",
    "    \"\"\"Calculate truncated tangent ramp function.\n",
    "\n",
    "    Parameters\n",
    "    ==========\n",
    "    npts: int\n",
    "        Number of points to calculate\n",
    "    s: float\n",
    "        shape parameter (0<s≤1) varies curve from linear (s→0) to tan-shaped\n",
    "    full: bool\n",
    "        If True, return both arms of the loop by mirroring. This effectively\n",
    "        doubles the number of points.\n",
    "\n",
    "    Returns\n",
    "    =======\n",
    "    ramp: np.ndarray\n",
    "        normalized ramp values\n",
    "    \"\"\"\n",
    "    # if (s <= 0) or (s > 1):\n",
    "    #     raise ValueError(\"shape parameter out of range 0<s≤1\")\n",
    "    x = s * np.linspace(-np.pi / 2, np.pi / 2, npts)\n",
    "    y = np.tan(x) / np.tan(np.pi * s / 2)\n",
    "    if full:\n",
    "        y = np.append(y, y[::-1][1:])\n",
    "    return y"
   ]
  },
  {
   "cell_type": "code",
   "execution_count": null,
   "id": "888be299-12a7-4b90-af1e-f9df05e73a47",
   "metadata": {},
   "outputs": [],
   "source": [
    "def normalize(arr):\n",
    "    return (arr - arr.min()) / (arr.max() - arr.min())"
   ]
  },
  {
   "cell_type": "code",
   "execution_count": null,
   "id": "0f3bf6a3-9e00-4163-adf4-c138ab27b011",
   "metadata": {},
   "outputs": [],
   "source": [
    "# Choose scan id\n",
    "scan_id = 2511\n",
    "\n",
    "# Load trace data\n",
    "fields = [\n",
    "    f\"adc_beck_femto_diodemax_trace\",\n",
    "    \"adc_beck_femto_goldmesh_trace\",\n",
    "    \"adc_beck_mtesla_trace\",\n",
    "]\n",
    "adcs = [load_data(scan_id, f) for f in fields]"
   ]
  },
  {
   "cell_type": "code",
   "execution_count": null,
   "id": "f49f6f6d-e26c-407a-a6f7-23ac35ef1dc6",
   "metadata": {},
   "outputs": [],
   "source": [
    "# Create xarray dataset\n",
    "ds = xr.Dataset()\n",
    "ds[\"fields\"] = (\"index\", adcs[2][:, 10:-10].flatten())  # magnetic field\n",
    "ds[\"diode\"] = (\"index\", adcs[0][:, 10:-10].flatten())  # diode current\n",
    "ds[\"mesh\"] = (\"index\", adcs[1][:, 10:-10].flatten())  # mesh current for normalization\n",
    "ds[\"rising\"] = (\n",
    "    \"index\",\n",
    "    gaussian_filter1d(np.gradient(ds[\"fields\"]), 20) > 0,\n",
    ")  # which hysteresis branch"
   ]
  },
  {
   "cell_type": "code",
   "execution_count": null,
   "id": "68563bc4-92ba-4b32-883f-b350d9389e93",
   "metadata": {},
   "outputs": [],
   "source": [
    "bins = np.max(ds.fields.values) * ramp_tan(100, 0.5, False)\n",
    "\n",
    "ds_sel = ds\n",
    "ds_sel[\"rising\"] = ds_sel.rising.astype(bool)\n",
    "up = ds_sel.where(ds_sel.rising).groupby_bins(\"fields\", bins).mean()\n",
    "down = ds_sel.where(~ds_sel.rising).groupby_bins(\"fields\", bins).mean()"
   ]
  },
  {
   "cell_type": "code",
   "execution_count": null,
   "id": "02a5120f-f9ba-4881-9281-55629f91345c",
   "metadata": {
    "tags": []
   },
   "outputs": [],
   "source": [
    "fig, ax = plt.subplots()\n",
    "ax.plot(1e2 * up.fields, 2 * normalize(up.diode / up.mesh) - 1, \"o\", ms=3)\n",
    "ax.plot(1e2 * down.fields, 2 * normalize(down.diode / down.mesh) - 1, \"o\", ms=3)\n",
    "ax.set_xlabel(\"field (mT)\")\n",
    "ax.set_ylabel(\"diode / mesh (arb. units)\")\n",
    "ax.set_title(\"scan %d: field sweep @ 0.2Hz\" % (scan_id))\n",
    "ax.grid()\n",
    "\n",
    "fname = join(folder_general, \"ScanId_%04d_Diode_Trace_%s.png\" % (scan_id, USER))\n",
    "print(\"Saving: %s\" % fname)\n",
    "plt.savefig(fname, dpi=300)"
   ]
  }
 ],
 "metadata": {
  "kernelspec": {
   "display_name": "2403_tomo",
   "language": "python",
   "name": "2403_tomo"
  },
  "language_info": {
   "codemirror_mode": {
    "name": "ipython",
    "version": 3
   },
   "file_extension": ".py",
   "mimetype": "text/x-python",
   "name": "python",
   "nbconvert_exporter": "python",
   "pygments_lexer": "ipython3",
   "version": "3.11.0"
  },
  "toc-showcode": false
 },
 "nbformat": 4,
 "nbformat_minor": 5
}
