{
 "cells": [
  {
   "cell_type": "markdown",
   "id": "98bb361a-4fb6-461e-80a5-523b5e17c1ca",
   "metadata": {},
   "source": [
    "# Initalize libraries"
   ]
  },
  {
   "cell_type": "markdown",
   "id": "0da40b57-6467-45ee-b067-3d55970bcdba",
   "metadata": {},
   "source": [
    "## Import libraries"
   ]
  },
  {
   "cell_type": "code",
   "execution_count": 1,
   "id": "fae16cf5-86c2-4727-9d1d-2683d107d282",
   "metadata": {},
   "outputs": [
    {
     "name": "stderr",
     "output_type": "stream",
     "text": [
      "WARNING:silx.opencl.common:The module pyOpenCL has been imported but can't be used here\n"
     ]
    }
   ],
   "source": [
    "import sys, os\n",
    "import time\n",
    "from os.path import join\n",
    "from os import path\n",
    "from importlib import reload\n",
    "from getpass import getuser\n",
    "import xarray as xr\n",
    "import h5py\n",
    "from tqdm.auto import tqdm\n",
    "\n",
    "import numpy as np\n",
    "import matplotlib.pyplot as plt\n",
    "\n",
    "# Misc\n",
    "from scipy.ndimage import gaussian_filter1d\n",
    "\n",
    "# Open nexus files\n",
    "from nexusformat.nexus import *\n",
    "\n",
    "# Self-written libraries\n",
    "sys.path.append(join(os.getcwd(),\"library\"))\n",
    "import support_functions as sup\n",
    "from interactive import cimshow\n",
    "\n",
    "# Gifs\n",
    "import imageio\n",
    "\n",
    "plt.rcParams[\"figure.constrained_layout.use\"] = True  # replaces plt.tight_layout"
   ]
  },
  {
   "cell_type": "code",
   "execution_count": 2,
   "id": "ef13f839-af3a-4b32-83cf-722ac1a68313",
   "metadata": {},
   "outputs": [
    {
     "name": "stdout",
     "output_type": "stream",
     "text": [
      "GPU available\n"
     ]
    }
   ],
   "source": [
    "# Is there a GPU?\n",
    "try:\n",
    "    # Cupy\n",
    "    import cupy as cp\n",
    "    import cupyx as cpx\n",
    "\n",
    "    GPU = True\n",
    "\n",
    "    print(\"GPU available\")\n",
    "\n",
    "    # Self-written library\n",
    "    import CCI_core_cupy as cci\n",
    "    import Phase_Retrieval as PhR\n",
    "except:\n",
    "    GPU = False\n",
    "    import CCI_core as cci\n",
    "\n",
    "    print(\"GPU unavailable\")"
   ]
  },
  {
   "cell_type": "code",
   "execution_count": 3,
   "id": "5b2da438-226a-47d5-91b8-f5acc9664aa0",
   "metadata": {
    "tags": []
   },
   "outputs": [],
   "source": [
    "# interactive plotting\n",
    "import ipywidgets\n",
    "%matplotlib widget\n",
    "\n",
    "# Auto formatting of cells\n",
    "#%load_ext jupyter_black"
   ]
  },
  {
   "cell_type": "markdown",
   "id": "e3408ae5-de64-411e-a3e3-f926b19134ab",
   "metadata": {},
   "source": [
    "## Experiment specific Functions"
   ]
  },
  {
   "cell_type": "code",
   "execution_count": 4,
   "id": "1398e982-030a-45f2-9bc5-500cd48d86fb",
   "metadata": {},
   "outputs": [],
   "source": [
    "PROPOSAL = 11018955\n",
    "USER = getuser()"
   ]
  },
  {
   "cell_type": "code",
   "execution_count": 5,
   "id": "67e0539b-b478-4e28-b1b1-f63a41cef975",
   "metadata": {},
   "outputs": [],
   "source": [
    "BASEFOLDER = \"/asap3/petra3/gpfs/p04/2024/data/%s/\" % PROPOSAL\n",
    "sample_name = \"2403_tomo\"\n",
    "\n",
    "\n",
    "# Load any kind of data from collection\n",
    "def load_pre_scan_snapshot(scan_id, key):\n",
    "    fname = join(BASEFOLDER, \"raw\", \"%s_%05d.h5\" % (sample_name,scan_id))\n",
    "    entry = \"entry%d\"%scan_id\n",
    "    \n",
    "    with h5py.File(fname, \"r\") as f:\n",
    "        data = np.array(f[entry][\"measurement\"][\"pre_scan_snapshot\"][key][()])\n",
    "        print(\"Loaded: %s\" % (fname))\n",
    "    return np.squeeze(data)\n",
    "\n",
    "# Load any kind of data from measurements\n",
    "def load_data(scan_id, key):\n",
    "    fname = join(BASEFOLDER, \"raw\", \"%s_%05d.h5\" % (sample_name,scan_id))\n",
    "    entry = \"entry%d\"%scan_id\n",
    "\n",
    "    with h5py.File(fname, \"r\") as f:\n",
    "        data = np.array(f[entry][\"measurement\"][key][()])\n",
    "        print(\"Loaded key %s of %s\" % (key, entry))\n",
    "    return np.squeeze(data)"
   ]
  },
  {
   "cell_type": "code",
   "execution_count": 6,
   "id": "a3b05db2-c7d8-4f14-ae5b-91d36579a332",
   "metadata": {},
   "outputs": [],
   "source": [
    "# Not implemented yet\n",
    "def norm_hyst_data(ydata, norm):\n",
    "    \"\"\"\n",
    "    Normalize hysteresis yaxis to +/- 1\n",
    "    \"\"\"\n",
    "    ynorm = []\n",
    "    for i in range(len(ydata)):\n",
    "        tmp = ydata[i] / norm[i]\n",
    "        tmp = tmp - np.mean(tmp[-5:])\n",
    "        tmp = tmp / np.mean(tmp[:5])\n",
    "        tmp = 2 * (tmp - 0.5)\n",
    "        ynorm.append(tmp)\n",
    "\n",
    "    return ynorm"
   ]
  },
  {
   "cell_type": "code",
   "execution_count": 7,
   "id": "a1aaebb6-e9c6-4306-8580-85f59e9dc16e",
   "metadata": {},
   "outputs": [],
   "source": [
    "from scipy.optimize import curve_fit\n",
    "def gaussian(x, a, x0, sigma, c):\n",
    "    return a * np.exp(-((x - x0) ** 2) / (2 * sigma**2)) + c"
   ]
  },
  {
   "cell_type": "markdown",
   "id": "83a18703-7ac3-4731-b0e6-6c3bcc6a8170",
   "metadata": {},
   "source": [
    "# Experimental Details"
   ]
  },
  {
   "cell_type": "code",
   "execution_count": 8,
   "id": "cc3239b4-0a4f-466d-8bb3-a12e5bf02202",
   "metadata": {
    "tags": []
   },
   "outputs": [
    {
     "name": "stdout",
     "output_type": "stream",
     "text": [
      "Output Folder: /asap3/petra3/gpfs/p04/2024/data/11018955/processed\n"
     ]
    }
   ],
   "source": [
    "# Dict with basic experimental parameter\n",
    "experimental_setup = {}\n",
    "\n",
    "# General saving folder\n",
    "folder_general = sup.create_folder(join(BASEFOLDER, \"processed\"))\n",
    "print(\"Output Folder: %s\" % folder_general)\n"
   ]
  },
  {
   "cell_type": "markdown",
   "id": "4b9fea5c-dace-48d1-b632-0518079b66c3",
   "metadata": {},
   "source": [
    "# Single or combination of multiple diode scans"
   ]
  },
  {
   "cell_type": "code",
   "execution_count": 26,
   "id": "a3f65339-0204-442e-a7f3-0c05384c7b5b",
   "metadata": {},
   "outputs": [
    {
     "data": {
      "application/vnd.jupyter.widget-view+json": {
       "model_id": "5602d8c5a93340d0a0a0355b8c9dd26f",
       "version_major": 2,
       "version_minor": 0
      },
      "text/plain": [
       "  0%|          | 0/1 [00:00<?, ?it/s]"
      ]
     },
     "metadata": {},
     "output_type": "display_data"
    },
    {
     "name": "stdout",
     "output_type": "stream",
     "text": [
      "Loaded key hxsz of entry1067\n",
      "Loaded key maxibeckhoff1adc1_rmean of entry1067\n"
     ]
    }
   ],
   "source": [
    "# Add scan numbers to combine in single plot\n",
    "scan_ids = [1067]\n",
    "\n",
    "# keys from nxs files (if you are not sure, which you need, open nexus files from beamtime folder and navigate through keys `2310_P04_FGT/raw/FGT`)\n",
    "data_key_x = \"hxsz\" # \"energy\", \"sx\", \"sy\"\n",
    "data_key_y = \"maxibeckhoff1adc1_rmean\"\n",
    "\n",
    "# Normalization of diode signal with I0, e.g., with petra current or gold mesh (needs to be inserted during scan)\n",
    "normalization = False\n",
    "data_key_norm = \"maxibeckhoff1adc2_rmean\"  # \"petra_curr\"\n",
    "\n",
    "# Load data\n",
    "xdata, ydata, norm = [], [], []\n",
    "for scan_id in tqdm(scan_ids):\n",
    "    xdata.append(load_data(scan_id, data_key_x))\n",
    "    ydata.append(load_data(scan_id, data_key_y))\n",
    "\n",
    "    if normalization is True:\n",
    "        norm.append(load_data(scan_id, data_key_norm))\n",
    "    else:\n",
    "        norm.append(np.ones(ydata[-1].shape))"
   ]
  },
  {
   "cell_type": "code",
   "execution_count": 27,
   "id": "07cc44f2-dc27-4857-b330-b27dbb6aed96",
   "metadata": {},
   "outputs": [
    {
     "name": "stdout",
     "output_type": "stream",
     "text": [
      "Saving: /asap3/petra3/gpfs/p04/2024/data/11018955/processed/ScanId_1067_Diode_cklose.png\n"
     ]
    },
    {
     "data": {
      "application/vnd.jupyter.widget-view+json": {
       "model_id": "6044fd6ba33944be8204c86d5bf88fb2",
       "version_major": 2,
       "version_minor": 0
      },
      "image/png": "[encoded data removed]",
      "text/html": [
       "\n",
       "            <div style=\"display: inline-block;\">\n",
       "                <div class=\"jupyter-widgets widget-label\" style=\"text-align: center;\">\n",
       "                    Figure\n",
       "                </div>\n",
       "                <img src='data:image/png;base64,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' width=640.0/>\n",
       "            </div>\n",
       "        "
      ],
      "text/plain": [
       "Canvas(toolbar=Toolbar(toolitems=[('Home', 'Reset original view', 'home', 'home'), ('Back', 'Back to previous …"
      ]
     },
     "metadata": {},
     "output_type": "display_data"
    }
   ],
   "source": [
    "# Format title and output file name\n",
    "if len(scan_ids) > 1:\n",
    "    title = \"ScanIds: %04d-%04d\" % (scan_ids[0], scan_ids[-1])\n",
    "    fname = join(\n",
    "        folder_general,\n",
    "        \"ScanId_%04d-%04d_Diode_%s.png\" % (scan_ids[0], scan_ids[-1], USER),\n",
    "    )\n",
    "else:\n",
    "    title = \"ScanId: %04d\" % (scan_ids[0])\n",
    "    fname = join(folder_general, \"ScanId_%04d_Diode_%s.png\" % (scan_ids[0], USER))\n",
    "\n",
    "colors = plt.cm.jet(np.linspace(0,1,len(xdata)))\n",
    "\n",
    "# Plot all scans together\n",
    "fig, ax = plt.subplots()\n",
    "\n",
    "# Iterate over scans\n",
    "for i, _ in enumerate(scan_ids):\n",
    "    ax.plot(\n",
    "        xdata[i],\n",
    "        ydata[i] / norm[i],\n",
    "        \"o-\",\n",
    "        markersize=2,\n",
    "        label=\"Id: %d\" % scan_ids[i],\n",
    "        color = colors[i]\n",
    "    )\n",
    "\n",
    "# Plotting options\n",
    "ax.set_title(title)\n",
    "ax.set_xlabel(data_key_x)\n",
    "# ax.set_xlim([-0.01, 0.01])\n",
    "# ax.set_ylim([-0.015, 0.015])\n",
    "ax.grid()\n",
    "ax.legend()\n",
    "\n",
    "# Different label with and without normalization\n",
    "if normalization is True:\n",
    "    ax.set_ylabel(data_key_y + \" (normalized by %s)\" % data_key_norm, fontsize=7)\n",
    "else:\n",
    "    ax.set_ylabel(data_key_y + \" (a.u.)\")\n",
    "\n",
    "# Save plot\n",
    "print(\"Saving: %s\" % fname)\n",
    "plt.savefig(fname, dpi=300)"
   ]
  },
  {
   "cell_type": "markdown",
   "id": "d1008289-961d-4c17-9cfb-41e1a06c097a",
   "metadata": {},
   "source": [
    "## Fitting of scans with a gaussian"
   ]
  },
  {
   "cell_type": "code",
   "execution_count": 29,
   "id": "af021d5c-f71b-4f8f-96d8-0ac7bb193765",
   "metadata": {},
   "outputs": [
    {
     "data": {
      "application/vnd.jupyter.widget-view+json": {
       "model_id": "89f3cf73b73048c892fdd5b65fdf8371",
       "version_major": 2,
       "version_minor": 0
      },
      "text/plain": [
       "  0%|          | 0/1 [00:00<?, ?it/s]"
      ]
     },
     "metadata": {},
     "output_type": "display_data"
    },
    {
     "name": "stdout",
     "output_type": "stream",
     "text": [
      "Loaded key hxsz of entry1067\n",
      "Loaded key maxibeckhoff1adc1_rmean of entry1067\n"
     ]
    }
   ],
   "source": [
    "# Add scan numbers to combine in single plot\n",
    "scan_ids = [1067]\n",
    "\n",
    "# keys from nxs files (if you are not sure, which you need, open nexus files from beamtime folder and navigate through keys `2310_P04_FGT/raw/FGT`)\n",
    "data_key_x = \"hxsz\"\n",
    "data_key_y = \"maxibeckhoff1adc1_rmean\"\n",
    "\n",
    "# Normalization of diode signal with I0, e.g., with petra current or gold mesh (needs to be inserted during scan)\n",
    "normalization = False\n",
    "data_key_norm = \"adc_beck_femto_goldmesh_mean\"  # \"petra_curr\"\n",
    "\n",
    "\n",
    "# Load energy/wavelength and add to experimental setup\n",
    "try:\n",
    "    experimental_setup[\"energy\"] = np.array(load_energy(scan_ids[0]))\n",
    "    experimental_setup[\"lambda\"] = cci.photon_energy_wavelength(\n",
    "        experimental_setup[\"energy\"], input_unit=\"eV\"\n",
    "    )\n",
    "except:\n",
    "    pass\n",
    "\n",
    "# Load data\n",
    "xdata, ydata, norm = [], [], []\n",
    "for scan_id in tqdm(scan_ids):\n",
    "    xdata.append(load_data(scan_id, data_key_x))\n",
    "    ydata.append(load_data(scan_id, data_key_y))\n",
    "\n",
    "    if normalization is True:\n",
    "        norm.append(load_data(scan_id, data_key_norm))\n",
    "    else:\n",
    "        norm.append(np.ones(ydata[-1].shape))"
   ]
  },
  {
   "cell_type": "code",
   "execution_count": 31,
   "id": "2d8374e3-ae8e-4ff3-a57c-d35af36057a4",
   "metadata": {},
   "outputs": [
    {
     "name": "stdout",
     "output_type": "stream",
     "text": [
      "Scan 1067: A=2.073355, x=-2.583344, sigma=0.136694, c=-0.000694\n",
      "Saving: /asap3/petra3/gpfs/p04/2024/data/11018955/processed/ScanId_1067_Fit_cklose.png\n"
     ]
    },
    {
     "data": {
      "application/vnd.jupyter.widget-view+json": {
       "model_id": "ca21604e36834c9dbfbf688fed05598d",
       "version_major": 2,
       "version_minor": 0
      },
      "image/png": "[encoded data removed]",
      "text/html": [
       "\n",
       "            <div style=\"display: inline-block;\">\n",
       "                <div class=\"jupyter-widgets widget-label\" style=\"text-align: center;\">\n",
       "                    Figure\n",
       "                </div>\n",
       "                <img src='data:image/png;base64,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' width=640.0/>\n",
       "            </div>\n",
       "        "
      ],
      "text/plain": [
       "Canvas(toolbar=Toolbar(toolitems=[('Home', 'Reset original view', 'home', 'home'), ('Back', 'Back to previous …"
      ]
     },
     "metadata": {},
     "output_type": "display_data"
    }
   ],
   "source": [
    "# Format title and output file name\n",
    "if len(scan_ids) > 1:\n",
    "    title = \"ScanIds: %04d-%04d\" % (scan_ids[0], scan_ids[-1])\n",
    "    fname = join(\n",
    "        folder_general,\n",
    "        \"ScanId_%04d-%04d_Fit_%s.png\" % (scan_ids[0], scan_ids[-1], USER),\n",
    "    )\n",
    "else:\n",
    "    title = \"ScanId: %04d\" % (scan_ids[0])\n",
    "    fname = join(folder_general, \"ScanId_%04d_Fit_%s.png\" % (scan_ids[0], USER))\n",
    "\n",
    "\n",
    "# Plot all scans together\n",
    "fig, ax = plt.subplots()\n",
    "\n",
    "fit = True\n",
    "\n",
    "# Iterate over scans\n",
    "for i, scan_id in enumerate(scan_ids):\n",
    "    # Plot diode\n",
    "    y = ydata[i] / norm[i]\n",
    "    p = ax.plot(\n",
    "        xdata[i],\n",
    "        y,\n",
    "        \"o\",\n",
    "        markersize=2,\n",
    "        label=\"Id: %d\" % scan_ids[i],\n",
    "    )\n",
    "    \n",
    "    # Initial fitting Parameter\n",
    "    if fit is True:\n",
    "        A0 = np.max(ydata[i] / norm[i])\n",
    "        x0 = xdata[i][np.argmax(ydata[i])]\n",
    "        sigma0 = 0.1\n",
    "        c0 = 0  # np.min(ydata[i])\n",
    "        popt, pcov = curve_fit(\n",
    "            gaussian, xdata[i], y, p0=(A0, x0, sigma0, c0)\n",
    "        )\n",
    "        # popt returns the best fit values for parameters of the given model (func)\n",
    "        print(\"Scan %d: A=%02f, x=%02f, sigma=%02f, c=%02f\"%(scan_id,popt[0],popt[1],popt[2],popt[3]))\n",
    "        color = p[0].get_color()\n",
    "        # plot fit\n",
    "        x = np.linspace(xdata[i][0], xdata[i][-1], 100)\n",
    "        ym = gaussian(x, popt[0], popt[1], popt[2], popt[3])\n",
    "        ax.plot(\n",
    "            x, ym, color=color, label=\"FWHM = %.3f\" % (2 * np.sqrt(2 * np.log(2)) * popt[2])\n",
    "        )\n",
    "\n",
    "        # Add vline line\n",
    "        ax.axvline(popt[1], 0, 10, color=color)\n",
    "\n",
    "# Plotting options\n",
    "ax.set_title(title)\n",
    "ax.set_xlabel(data_key_x)\n",
    "# ax.set_xlim([-0.01, 0.01])\n",
    "# ax.set_ylim([-0.015, 0.015])\n",
    "ax.grid()\n",
    "ax.legend()\n",
    "\n",
    "# Different label with and without normalization\n",
    "if normalization is True:\n",
    "    ax.set_ylabel(data_key_y + \" (normalized by %s)\" % data_key_norm, fontsize=7)\n",
    "else:\n",
    "    ax.set_ylabel(data_key_y + \" (a.u.)\")\n",
    "\n",
    "# Save plot\n",
    "print(\"Saving: %s\" % fname)\n",
    "plt.savefig(fname)"
   ]
  },
  {
   "cell_type": "markdown",
   "id": "2f295a4b-a8a1-4f8b-91b2-fc5492c7bb98",
   "metadata": {},
   "source": [
    "# Rotation scans"
   ]
  },
  {
   "cell_type": "code",
   "execution_count": null,
   "id": "fbbc527f-7924-4d32-96ca-8a0cb9f5d71b",
   "metadata": {},
   "outputs": [],
   "source": [
    "# Add scan numbers to combine in single plot\n",
    "scan_ids = [883,890,893,898,901,904,907,910,915,918,921,924,929,932,935]\n",
    "#scan_ids = [882,889,894,896,900,903,906,909,914,917,920,923,928,931,934]\n",
    "\n",
    "# keys from nxs files (if you are not sure, which you need, open nexus files from beamtime folder and navigate through keys `2310_P04_FGT/raw/FGT`)\n",
    "data_key_x = \"sy\" # \"energy\", \"sx\", \"sy\"\n",
    "data_key_y = \"maxibeckhoff1adc1_rmean\"\n",
    "rot_key = \"srotz\"\n",
    "\n",
    "\n",
    "# Normalization of diode signal with I0, e.g., with petra current or gold mesh (needs to be inserted during scan)\n",
    "normalization = False\n",
    "data_key_norm = \"maxibeckhoff1adc2_rmean\"  # \"petra_curr\"\n",
    "\n",
    "\n",
    "if rot_key == \"srotz\":\n",
    "    angle0 = 67\n",
    "\n",
    "\n",
    "# Load energy/wavelength and add to experimental setup\n",
    "try:\n",
    "    experimental_setup[\"energy\"] = np.array(load_energy(scan_ids[0]))\n",
    "    experimental_setup[\"lambda\"] = cci.photon_energy_wavelength(\n",
    "        experimental_setup[\"energy\"], input_unit=\"eV\"\n",
    "    )\n",
    "except:\n",
    "    pass\n",
    "\n",
    "# Load data\n",
    "xdata, ydata, norm, rot = [], [], [], []\n",
    "for scan_id in tqdm(scan_ids):\n",
    "    xdata.append(load_data(scan_id, data_key_x))\n",
    "    ydata.append(load_data(scan_id, data_key_y))\n",
    "    rot.append(load_pre_scan_snapshot(scan_id, rot_key))\n",
    "\n",
    "    if normalization is True:\n",
    "        norm.append(load_data(scan_id, data_key_norm))\n",
    "    else:\n",
    "        norm.append(np.ones(ydata[-1].shape))"
   ]
  },
  {
   "cell_type": "code",
   "execution_count": null,
   "id": "09032f70-bfce-4681-a7e8-4850cf14bc49",
   "metadata": {},
   "outputs": [],
   "source": [
    "# Format title and output file name\n",
    "if len(scan_ids) > 1:\n",
    "    title = \"ScanIds: %04d-%04d\" % (scan_ids[0], scan_ids[-1])\n",
    "    fname = join(\n",
    "        folder_general,\n",
    "        \"ScanId_%04d-%04d_Diode_rot_%s.png\" % (scan_ids[0], scan_ids[-1], USER),\n",
    "    )\n",
    "else:\n",
    "    title = \"ScanId: %04d\" % (scan_ids[0])\n",
    "    fname = join(folder_general, \"ScanId_%04d_Diode__rot%s.png\" % (scan_ids[0], USER))\n",
    "\n",
    "colors = plt.cm.jet(np.linspace(0,1,len(xdata)))\n",
    "\n",
    "# Plot all scans together\n",
    "fig, ax = plt.subplots()\n",
    "\n",
    "# Iterate over scans\n",
    "for i, _ in enumerate(scan_ids):\n",
    "    ax.plot(\n",
    "        xdata[i],\n",
    "        ydata[i] / norm[i],\n",
    "        \"o-\",\n",
    "        markersize=2,\n",
    "        label=\"Id: %d, %s: %.1f (%.1f deg)\" % (scan_ids[i],rot_key,rot[i],rot[i]-angle0),\n",
    "        color = colors[i]\n",
    "    )\n",
    "\n",
    "# Plotting options\n",
    "ax.set_title(title)\n",
    "ax.set_xlabel(data_key_x)\n",
    "# ax.set_xlim([-0.01, 0.01])\n",
    "# ax.set_ylim([-0.015, 0.015])\n",
    "ax.grid()\n",
    "ax.legend(fontsize = 7)\n",
    "\n",
    "# Different label with and without normalization\n",
    "if normalization is True:\n",
    "    ax.set_ylabel(data_key_y + \" (normalized by %s)\" % data_key_norm, fontsize=7)\n",
    "else:\n",
    "    ax.set_ylabel(data_key_y + \" (a.u.)\")\n",
    "\n",
    "# Save plot\n",
    "print(\"Saving: %s\" % fname)\n",
    "plt.savefig(fname, dpi=300)"
   ]
  },
  {
   "cell_type": "code",
   "execution_count": null,
   "id": "94ccb84e-3e6b-47d5-a388-640200746152",
   "metadata": {},
   "outputs": [],
   "source": [
    "peaks_x = np.stack(xdata)\n",
    "peaks_y = np.stack(ydata)\n",
    "\n",
    "peak_pos = []\n",
    "for i,argmax in enumerate(np.argmax(peaks_y,axis=1)):\n",
    "    peak_pos.append(peaks_x[i,argmax])\n",
    "\n",
    "# Fitting\n",
    "m,b = np.polyfit(rot, peak_pos, 1)\n",
    "x = np.linspace(25,125,180)\n",
    "\n",
    "sy = m*x+b\n",
    "    \n",
    "fig, ax = plt.subplots()\n",
    "ax.plot(rot,peak_pos,\"o\",\n",
    "        markersize=7,)\n",
    "        #label=\"Id: %d, %s: %.1f (%.1f deg)\" % (scan_ids[i],rot_key,rot[i],rot[i]-angle0))\n",
    "ax.plot(x,sy,label = \"Fit: %s = %.2f * %s + %.2f\"%(data_key_x,m,rot_key,b))\n",
    "ax.set_ylabel(data_key_x)\n",
    "ax.set_xlabel(rot_key)\n",
    "ax.set_title(\"Alignment Peak Position\")\n",
    "ax.grid()\n",
    "ax.legend()\n",
    "\n",
    "fname = join(\n",
    "    folder_general,\n",
    "    \"ScanId_%04d-%04d_Diode_rot_peak_%s.png\" % (scan_ids[0], scan_ids[-1], USER),\n",
    ")\n",
    "print(\"Saving: %s\"%fname)\n",
    "\n",
    "plt.savefig(fname)"
   ]
  },
  {
   "cell_type": "code",
   "execution_count": null,
   "id": "813cc1ec-09db-4138-89d2-8a49ba7fab53",
   "metadata": {},
   "outputs": [],
   "source": [
    "input_angle = 42\n",
    "sy = m*input_angle+b\n",
    "sy"
   ]
  },
  {
   "cell_type": "markdown",
   "id": "ef5f0e5e-4ac9-4b37-a4db-d0eb3b55b074",
   "metadata": {},
   "source": [
    "# Diode Trace Hysteresis"
   ]
  },
  {
   "cell_type": "code",
   "execution_count": null,
   "id": "141882e2-4fa4-42b9-b6cb-ffb22a9b4ac2",
   "metadata": {},
   "outputs": [],
   "source": [
    "def ramp_tan(npts: int, s: float, full=False):\n",
    "    \"\"\"Calculate truncated tangent ramp function.\n",
    "\n",
    "    Parameters\n",
    "    ==========\n",
    "    npts: int\n",
    "        Number of points to calculate\n",
    "    s: float\n",
    "        shape parameter (0<s≤1) varies curve from linear (s→0) to tan-shaped\n",
    "    full: bool\n",
    "        If True, return both arms of the loop by mirroring. This effectively\n",
    "        doubles the number of points.\n",
    "\n",
    "    Returns\n",
    "    =======\n",
    "    ramp: np.ndarray\n",
    "        normalized ramp values\n",
    "    \"\"\"\n",
    "    # if (s <= 0) or (s > 1):\n",
    "    #     raise ValueError(\"shape parameter out of range 0<s≤1\")\n",
    "    x = s * np.linspace(-np.pi / 2, np.pi / 2, npts)\n",
    "    y = np.tan(x) / np.tan(np.pi * s / 2)\n",
    "    if full:\n",
    "        y = np.append(y, y[::-1][1:])\n",
    "    return y"
   ]
  },
  {
   "cell_type": "code",
   "execution_count": null,
   "id": "888be299-12a7-4b90-af1e-f9df05e73a47",
   "metadata": {},
   "outputs": [],
   "source": [
    "def normalize(arr):\n",
    "    return (arr - arr.min()) / (arr.max() - arr.min())"
   ]
  },
  {
   "cell_type": "code",
   "execution_count": null,
   "id": "0f3bf6a3-9e00-4163-adf4-c138ab27b011",
   "metadata": {},
   "outputs": [],
   "source": [
    "# Choose scan id\n",
    "scan_id = 2511\n",
    "\n",
    "# Load trace data\n",
    "fields = [\n",
    "    f\"adc_beck_femto_diodemax_trace\",\n",
    "    \"adc_beck_femto_goldmesh_trace\",\n",
    "    \"adc_beck_mtesla_trace\",\n",
    "]\n",
    "adcs = [load_data(scan_id, f) for f in fields]"
   ]
  },
  {
   "cell_type": "code",
   "execution_count": null,
   "id": "f49f6f6d-e26c-407a-a6f7-23ac35ef1dc6",
   "metadata": {},
   "outputs": [],
   "source": [
    "# Create xarray dataset\n",
    "ds = xr.Dataset()\n",
    "ds[\"fields\"] = (\"index\", adcs[2][:, 10:-10].flatten())  # magnetic field\n",
    "ds[\"diode\"] = (\"index\", adcs[0][:, 10:-10].flatten())  # diode current\n",
    "ds[\"mesh\"] = (\"index\", adcs[1][:, 10:-10].flatten())  # mesh current for normalization\n",
    "ds[\"rising\"] = (\n",
    "    \"index\",\n",
    "    gaussian_filter1d(np.gradient(ds[\"fields\"]), 20) > 0,\n",
    ")  # which hysteresis branch"
   ]
  },
  {
   "cell_type": "code",
   "execution_count": null,
   "id": "68563bc4-92ba-4b32-883f-b350d9389e93",
   "metadata": {},
   "outputs": [],
   "source": [
    "bins = np.max(ds.fields.values) * ramp_tan(100, 0.5, False)\n",
    "\n",
    "ds_sel = ds\n",
    "ds_sel[\"rising\"] = ds_sel.rising.astype(bool)\n",
    "up = ds_sel.where(ds_sel.rising).groupby_bins(\"fields\", bins).mean()\n",
    "down = ds_sel.where(~ds_sel.rising).groupby_bins(\"fields\", bins).mean()"
   ]
  },
  {
   "cell_type": "code",
   "execution_count": null,
   "id": "02a5120f-f9ba-4881-9281-55629f91345c",
   "metadata": {
    "tags": []
   },
   "outputs": [],
   "source": [
    "fig, ax = plt.subplots()\n",
    "ax.plot(1e2 * up.fields, 2 * normalize(up.diode / up.mesh) - 1, \"o\", ms=3)\n",
    "ax.plot(1e2 * down.fields, 2 * normalize(down.diode / down.mesh) - 1, \"o\", ms=3)\n",
    "ax.set_xlabel(\"field (mT)\")\n",
    "ax.set_ylabel(\"diode / mesh (arb. units)\")\n",
    "ax.set_title(\"scan %d: field sweep @ 0.2Hz\" % (scan_id))\n",
    "ax.grid()\n",
    "\n",
    "fname = join(folder_general, \"ScanId_%04d_Diode_Trace_%s.png\" % (scan_id, USER))\n",
    "print(\"Saving: %s\" % fname)\n",
    "plt.savefig(fname, dpi=300)"
   ]
  }
 ],
 "metadata": {
  "kernelspec": {
   "display_name": "2403_tomo",
   "language": "python",
   "name": "2403_tomo"
  },
  "language_info": {
   "codemirror_mode": {
    "name": "ipython",
    "version": 3
   },
   "file_extension": ".py",
   "mimetype": "text/x-python",
   "name": "python",
   "nbconvert_exporter": "python",
   "pygments_lexer": "ipython3",
   "version": "3.11.0"
  },
  "toc-showcode": false
 },
 "nbformat": 4,
 "nbformat_minor": 5
}
